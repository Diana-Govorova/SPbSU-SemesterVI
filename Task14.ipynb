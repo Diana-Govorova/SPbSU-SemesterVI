{
 "cells": [
  {
   "cell_type": "code",
   "execution_count": 255,
   "id": "930487cb",
   "metadata": {},
   "outputs": [],
   "source": [
    "import matplotlib.pyplot as plt \n",
    "%matplotlib inline \n",
    "import numpy as np \n",
    "from sklearn.cluster import KMeans\n",
    "from sklearn.cluster import AgglomerativeClustering\n",
    "import time\n",
    "from collections import Counter"
   ]
  },
  {
   "cell_type": "code",
   "execution_count": 256,
   "id": "2917d445",
   "metadata": {},
   "outputs": [],
   "source": [
    "X = np.array([[4.72726459, 2.70000077],\n",
    " [1.42060018, 1.25163879],\n",
    " [0.48265459, 4.73792344],\n",
    " [4.5064526,  3.40691956],\n",
    " [4.56174057, 4.19865074],\n",
    " [1.31530845, 2.3227768 ],\n",
    " [4.68702816, 3.02881051],\n",
    " [0.47909534, 3.27369201],\n",
    " [1.52806639, 1.4027325 ],\n",
    " [2.5667348,  0.35647392],\n",
    " [2.3448762,  3.20631209],\n",
    " [1.7873303,  2.81708124],\n",
    " [0.21158926, 2.80222928],\n",
    " [0.00738595, 2.16684786],\n",
    " [1.75372296, 3.4108307 ],\n",
    " [1.93742843, 4.08817145],\n",
    " [0.51060207, 1.65220412],\n",
    " [3.64652759, 4.4240217 ],\n",
    " [1.89095415, 1.45864396],\n",
    " [3.3261566,  4.55756828],\n",
    " [2.56906837, 3.40108949],\n",
    " [2.83672144, 1.87572519],\n",
    " [2.89142247, 1.44349601],\n",
    " [1.99147792, 4.93831599],\n",
    " [3.40556495, 4.6390777 ],\n",
    " [3.70552891, 0.02740994],\n",
    " [1.04524425, 4.23306784],\n",
    " [1.91097121, 2.59796684],\n",
    " [4.74336113, 2.75073504],\n",
    " [3.18552172, 2.72498608]] )"
   ]
  },
  {
   "cell_type": "code",
   "execution_count": 257,
   "id": "68f2af12",
   "metadata": {},
   "outputs": [
    {
     "data": {
      "text/plain": [
       "<matplotlib.collections.PathCollection at 0x1d48743b190>"
      ]
     },
     "execution_count": 257,
     "metadata": {},
     "output_type": "execute_result"
    },
    {
     "data": {
      "image/png": "[encoded data removed]",
      "text/plain": [
       "<Figure size 432x288 with 1 Axes>"
      ]
     },
     "metadata": {
      "needs_background": "light"
     },
     "output_type": "display_data"
    }
   ],
   "source": [
    "plt.scatter(X[:,0],X[:,1], label='True Position')"
   ]
  },
  {
   "cell_type": "code",
   "execution_count": 312,
   "id": "bb4f81f3",
   "metadata": {},
   "outputs": [
    {
     "name": "stdout",
     "output_type": "stream",
     "text": [
      "Распределение номеров кластеров по элементам:  [1 0 3 1 1 0 1 4 0 2 0 0 4 4 3 3 4 1 0 1 0 0 0 3 1 2 3 0 1 0]\n",
      "\n",
      "Количество элементов в каждом кластере:  {1: 8, 0: 11, 3: 5, 4: 4, 2: 2}\n",
      "\n",
      "Время работы:  0.06922197341918945 seconds\n",
      "\n",
      "Центры кластеров:  [[0.50479621 2.44355001]\n",
      " [1.3642013  4.49936968]\n",
      " [2.25858179 3.02637774]\n",
      " [4.20051202 3.71322304]\n",
      " [2.40571833 1.11658862]]\n"
     ]
    },
    {
     "data": {
      "text/plain": [
       "<matplotlib.collections.PathCollection at 0x1d48aa37f70>"
      ]
     },
     "execution_count": 312,
     "metadata": {},
     "output_type": "execute_result"
    },
    {
     "data": {
      "image/png": "[encoded data removed]",
      "text/plain": [
       "<Figure size 432x288 with 1 Axes>"
      ]
     },
     "metadata": {
      "needs_background": "light"
     },
     "output_type": "display_data"
    }
   ],
   "source": [
    "start_time = time.time()\n",
    "\n",
    "kmeans = KMeans(n_clusters=5, init = 'random')\n",
    "kmeans.fit(X)\n",
    "\n",
    "print(\"Распределение номеров кластеров по элементам: \", model.labels_)\n",
    "print()\n",
    "\n",
    "A = dict(Counter(model.labels_))\n",
    "print(\"Количество элементов в каждом кластере: \", A)\n",
    "print()\n",
    "\n",
    "print(\"Время работы: \", \"%s seconds\" % (time.time() - start_time))\n",
    "print()\n",
    "\n",
    "print(\"Центры кластеров: \", kmeans.cluster_centers_)\n",
    "\n",
    "plt.scatter(X[:,0], X[:,1], c=kmeans.labels_, cmap='rainbow') \n",
    "plt.scatter(kmeans.cluster_centers_[:,0] ,kmeans.cluster_centers_[:,1], color='black')"
   ]
  },
  {
   "cell_type": "code",
   "execution_count": 333,
   "id": "6df0f409",
   "metadata": {},
   "outputs": [
    {
     "name": "stdout",
     "output_type": "stream",
     "text": [
      "Распределение номеров кластеров по элементам:  [1 0 3 1 1 0 1 4 0 2 0 0 4 4 3 3 4 1 0 1 0 0 0 3 1 2 3 0 1 0]\n",
      "\n",
      "Количество элементов в каждом кластере:  {1: 8, 0: 11, 3: 5, 4: 4, 2: 2}\n",
      "\n",
      "Время работы:  0.051410675048828125 seconds\n",
      "\n",
      "Центры кластеров:  [[3.07961924 3.82550922]\n",
      " [4.64516941 3.21702332]\n",
      " [1.10619033 2.17458134]\n",
      " [3.00010191 0.92577627]\n",
      " [1.44210563 4.28166188]]\n"
     ]
    },
    {
     "data": {
      "text/plain": [
       "<matplotlib.collections.PathCollection at 0x1d48c2865b0>"
      ]
     },
     "execution_count": 333,
     "metadata": {},
     "output_type": "execute_result"
    },
    {
     "data": {
      "image/png": "[encoded data removed]",
      "text/plain": [
       "<Figure size 432x288 with 1 Axes>"
      ]
     },
     "metadata": {
      "needs_background": "light"
     },
     "output_type": "display_data"
    }
   ],
   "source": [
    "start_time = time.time()\n",
    "\n",
    "kmeans = KMeans(n_clusters=5, init = 'k-means++')\n",
    "kmeans.fit(X)\n",
    "\n",
    "print(\"Распределение номеров кластеров по элементам: \", model.labels_)\n",
    "print()\n",
    "\n",
    "A = dict(Counter(model.labels_))\n",
    "print(\"Количество элементов в каждом кластере: \", A)\n",
    "print()\n",
    "\n",
    "print(\"Время работы: \", \"%s seconds\" % (time.time() - start_time))\n",
    "print()\n",
    "\n",
    "print(\"Центры кластеров: \", kmeans.cluster_centers_)\n",
    "\n",
    "plt.scatter(X[:,0], X[:,1], c=kmeans.labels_, cmap='rainbow') \n",
    "plt.scatter(kmeans.cluster_centers_[:,0] ,kmeans.cluster_centers_[:,1], color='black')"
   ]
  },
  {
   "cell_type": "markdown",
   "id": "de32bb48",
   "metadata": {},
   "source": [
    "Иерархическая кластеризация"
   ]
  },
  {
   "cell_type": "code",
   "execution_count": 334,
   "id": "bcb588cb",
   "metadata": {},
   "outputs": [
    {
     "name": "stdout",
     "output_type": "stream",
     "text": [
      "Распределение номеров кластеров по элементам:  [1 0 3 1 1 0 1 4 0 2 0 0 4 4 3 3 4 1 0 1 0 0 0 3 1 2 3 0 1 0]\n",
      "\n",
      "Количество элементов в каждом кластере:  {1: 8, 0: 11, 3: 5, 4: 4, 2: 2}\n",
      "\n",
      "Время работы:  0.00593876838684082 seconds\n",
      "\n"
     ]
    },
    {
     "data": {
      "text/plain": [
       "<matplotlib.collections.PathCollection at 0x1d48c2e83d0>"
      ]
     },
     "execution_count": 334,
     "metadata": {},
     "output_type": "execute_result"
    },
    {
     "data": {
      "image/png": "[encoded data removed]",
      "text/plain": [
       "<Figure size 432x288 with 1 Axes>"
      ]
     },
     "metadata": {
      "needs_background": "light"
     },
     "output_type": "display_data"
    }
   ],
   "source": [
    "#Метод самого дальнего соседа, расстояние Евклида\n",
    "start_time = time.time()\n",
    "\n",
    "model = AgglomerativeClustering(n_clusters=5, affinity='euclidean', linkage='complete')\n",
    "model.fit(X)\n",
    "\n",
    "print(\"Распределение номеров кластеров по элементам: \", model.labels_)\n",
    "print()\n",
    "\n",
    "A = dict(Counter(model.labels_))\n",
    "print(\"Количество элементов в каждом кластере: \", A)\n",
    "print()\n",
    "\n",
    "print(\"Время работы: \", \"%s seconds\" % (time.time() - start_time))\n",
    "print()\n",
    "\n",
    "plt.scatter(X[:,0], X[:,1], c=model.labels_, cmap='rainbow') "
   ]
  },
  {
   "cell_type": "code",
   "execution_count": 335,
   "id": "5a3bb2ab",
   "metadata": {},
   "outputs": [
    {
     "name": "stdout",
     "output_type": "stream",
     "text": [
      "Распределение номеров кластеров по элементам:  [3 0 4 3 3 0 3 0 0 1 2 0 0 0 2 4 0 2 0 2 2 1 1 4 2 1 4 0 3 1]\n",
      "\n",
      "Количество элементов в каждом кластере:  {3: 5, 0: 10, 4: 4, 1: 5, 2: 6}\n",
      "\n",
      "Время работы:  0.00803375244140625 seconds\n",
      "\n"
     ]
    },
    {
     "data": {
      "text/plain": [
       "<matplotlib.collections.PathCollection at 0x1d48c348760>"
      ]
     },
     "execution_count": 335,
     "metadata": {},
     "output_type": "execute_result"
    },
    {
     "data": {
      "image/png": "[encoded data removed]",
      "text/plain": [
       "<Figure size 432x288 with 1 Axes>"
      ]
     },
     "metadata": {
      "needs_background": "light"
     },
     "output_type": "display_data"
    }
   ],
   "source": [
    "#Метод самого дальнего соседа, манхэттенское расстояние\n",
    "start_time = time.time()\n",
    "\n",
    "model = AgglomerativeClustering(n_clusters=5, affinity='manhattan', linkage='complete')\n",
    "model.fit(X)\n",
    "\n",
    "print(\"Распределение номеров кластеров по элементам: \", model.labels_)\n",
    "print()\n",
    "\n",
    "A = dict(Counter(model.labels_))\n",
    "print(\"Количество элементов в каждом кластере: \", A)\n",
    "print()\n",
    "\n",
    "print(\"Время работы: \", \"%s seconds\" % (time.time() - start_time))\n",
    "print()\n",
    "\n",
    "plt.scatter(X[:,0], X[:,1], c=model.labels_, cmap='rainbow') "
   ]
  },
  {
   "cell_type": "code",
   "execution_count": 336,
   "id": "68904b2e",
   "metadata": {},
   "outputs": [
    {
     "name": "stdout",
     "output_type": "stream",
     "text": [
      "Распределение номеров кластеров по элементам:  [1 0 0 1 1 0 1 4 0 3 0 0 4 4 0 0 4 1 0 1 0 0 0 0 1 2 0 0 1 0]\n",
      "\n",
      "Количество элементов в каждом кластере:  {1: 8, 0: 16, 4: 4, 3: 1, 2: 1}\n",
      "\n",
      "Время работы:  0.007971763610839844 seconds\n",
      "\n"
     ]
    },
    {
     "data": {
      "text/plain": [
       "<matplotlib.collections.PathCollection at 0x1d48c3aebb0>"
      ]
     },
     "execution_count": 336,
     "metadata": {},
     "output_type": "execute_result"
    },
    {
     "data": {
      "image/png": "[encoded data removed]",
      "text/plain": [
       "<Figure size 432x288 with 1 Axes>"
      ]
     },
     "metadata": {
      "needs_background": "light"
     },
     "output_type": "display_data"
    }
   ],
   "source": [
    "#Метод ближайшего соседа, расстояние Евклида\n",
    "start_time = time.time()\n",
    "\n",
    "model = AgglomerativeClustering(n_clusters=5, affinity='euclidean', linkage='single')\n",
    "model.fit(X)\n",
    "\n",
    "print(\"Распределение номеров кластеров по элементам: \", model.labels_)\n",
    "print()\n",
    "\n",
    "A = dict(Counter(model.labels_))\n",
    "print(\"Количество элементов в каждом кластере: \", A)\n",
    "print()\n",
    "\n",
    "print(\"Время работы: \", \"%s seconds\" % (time.time() - start_time))\n",
    "print()\n",
    "\n",
    "plt.scatter(X[:,0], X[:,1], c=model.labels_, cmap='rainbow') "
   ]
  },
  {
   "cell_type": "code",
   "execution_count": 337,
   "id": "92570c7d",
   "metadata": {},
   "outputs": [
    {
     "name": "stdout",
     "output_type": "stream",
     "text": [
      "Распределение номеров кластеров по элементам:  [1 0 0 1 1 0 1 4 0 3 0 0 4 4 0 0 4 1 0 1 0 0 0 0 1 2 0 0 1 0]\n",
      "\n",
      "Количество элементов в каждом кластере:  {1: 8, 0: 16, 4: 4, 3: 1, 2: 1}\n",
      "\n",
      "Время работы:  0.007920980453491211 seconds\n",
      "\n"
     ]
    },
    {
     "data": {
      "text/plain": [
       "<matplotlib.collections.PathCollection at 0x1d48c40ef10>"
      ]
     },
     "execution_count": 337,
     "metadata": {},
     "output_type": "execute_result"
    },
    {
     "data": {
      "image/png": "[encoded data removed]",
      "text/plain": [
       "<Figure size 432x288 with 1 Axes>"
      ]
     },
     "metadata": {
      "needs_background": "light"
     },
     "output_type": "display_data"
    }
   ],
   "source": [
    "#Метод ближайшего соседа, манхэттенское расстояние\n",
    "start_time = time.time()\n",
    "\n",
    "model = AgglomerativeClustering(n_clusters=5, affinity='manhattan', linkage='single')\n",
    "model.fit(X)\n",
    "\n",
    "print(\"Распределение номеров кластеров по элементам: \", model.labels_)\n",
    "print()\n",
    "\n",
    "A = dict(Counter(model.labels_))\n",
    "print(\"Количество элементов в каждом кластере: \", A)\n",
    "print()\n",
    "\n",
    "print(\"Время работы: \", \"%s seconds\" % (time.time() - start_time))\n",
    "print()\n",
    "\n",
    "plt.scatter(X[:,0], X[:,1], c=model.labels_, cmap='rainbow') "
   ]
  },
  {
   "cell_type": "code",
   "execution_count": null,
   "id": "abdc21f4",
   "metadata": {},
   "outputs": [],
   "source": []
  }
 ],
 "metadata": {
  "kernelspec": {
   "display_name": "Python 3 (ipykernel)",
   "language": "python",
   "name": "python3"
  },
  "language_info": {
   "codemirror_mode": {
    "name": "ipython",
    "version": 3
   },
   "file_extension": ".py",
   "mimetype": "text/x-python",
   "name": "python",
   "nbconvert_exporter": "python",
   "pygments_lexer": "ipython3",
   "version": "3.8.12"
  }
 },
 "nbformat": 4,
 "nbformat_minor": 5
}
