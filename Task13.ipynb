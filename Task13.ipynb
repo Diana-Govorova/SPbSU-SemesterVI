{
 "cells": [
  {
   "cell_type": "code",
   "execution_count": 1,
   "id": "dada148c",
   "metadata": {},
   "outputs": [],
   "source": [
    "from math import cos, pi\n",
    "import random\n",
    " "
   ]
  },
  {
   "cell_type": "code",
   "execution_count": 2,
   "id": "e58885c7",
   "metadata": {},
   "outputs": [
    {
     "name": "stdout",
     "output_type": "stream",
     "text": [
      "точек     приближ. \t \t погрешность\n",
      "n = 100   1.9477874452256716 \t 0.0522125547743284\n",
      "n = 200   2.1048670779051615 \t 0.10486707790516148\n",
      "n = 300   1.9373154697137056 \t 0.0626845302862944\n",
      "n = 400   1.9477874452256716 \t 0.0522125547743284\n",
      "n = 500   1.9100883333825942 \t 0.0899116666174058\n",
      "n = 600   1.9582594207376378 \t 0.04174057926236219\n",
      "n = 700   2.0106192982974678 \t 0.010619298297467772\n",
      "n = 800   2.0734511513692637 \t 0.07345115136926372\n",
      "n = 900   1.9966566642815131 \t 0.003343335718486884\n"
     ]
    }
   ],
   "source": [
    "def MonteCarlo( n ):\n",
    "    pi_2 = pi / 2\n",
    "    point_counter = 0\n",
    "    for _ in range( n ):\n",
    "        x = random.uniform( -pi_2, pi_2 )\n",
    "        y = random.uniform( 0, 1 )\n",
    "        if y <= cos( x ):\n",
    "            point_counter += 1\n",
    "    return pi * point_counter / n    \n",
    "    \n",
    "# тесты\n",
    "N = 1000\n",
    "print( \"точек     приближ. \\t \\t погрешность\" )\n",
    "for n in range( 100, N, 100 ):\n",
    "    MC = MonteCarlo( n )\n",
    "    print( \"n =\", n, \" \",  MC, \"\\t\", abs( MC - 2 ) )\n"
   ]
  },
  {
   "cell_type": "code",
   "execution_count": null,
   "id": "fa1cce8e",
   "metadata": {},
   "outputs": [],
   "source": []
  }
 ],
 "metadata": {
  "kernelspec": {
   "display_name": "Python 3 (ipykernel)",
   "language": "python",
   "name": "python3"
  },
  "language_info": {
   "codemirror_mode": {
    "name": "ipython",
    "version": 3
   },
   "file_extension": ".py",
   "mimetype": "text/x-python",
   "name": "python",
   "nbconvert_exporter": "python",
   "pygments_lexer": "ipython3",
   "version": "3.8.12"
  }
 },
 "nbformat": 4,
 "nbformat_minor": 5
}
