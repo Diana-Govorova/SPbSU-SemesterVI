{
 "cells": [
  {
   "cell_type": "code",
   "execution_count": 86,
   "id": "8dc9c0a3",
   "metadata": {},
   "outputs": [],
   "source": [
    "import numpy as np\n",
    "import pandas as pd\n",
    "import math\n",
    "import matplotlib.pyplot as plt"
   ]
  },
  {
   "cell_type": "code",
   "execution_count": 87,
   "id": "6ea725dc",
   "metadata": {},
   "outputs": [],
   "source": [
    "def toFixed(numObj, digits=0):\n",
    "    return f\"{numObj:.{digits}f}\""
   ]
  },
  {
   "cell_type": "code",
   "execution_count": 88,
   "id": "7c113ec6",
   "metadata": {},
   "outputs": [],
   "source": [
    "def p(x):\n",
    "    return math.exp(x)"
   ]
  },
  {
   "cell_type": "code",
   "execution_count": 89,
   "id": "44067ece",
   "metadata": {},
   "outputs": [],
   "source": [
    "def q(x):\n",
    "    return x * 2"
   ]
  },
  {
   "cell_type": "code",
   "execution_count": 90,
   "id": "10254257",
   "metadata": {},
   "outputs": [],
   "source": [
    "def f(x):\n",
    "    return x ** 3"
   ]
  },
  {
   "cell_type": "code",
   "execution_count": 91,
   "id": "716393e3",
   "metadata": {},
   "outputs": [],
   "source": [
    "alpha0 = 2\n",
    "alpha1 = -2.5\n",
    "Ac = 0\n",
    "beta0 = 3\n",
    "beta1 = -3.4\n",
    "Bc = 5\n",
    "a0 = 0.1\n",
    "b0 = 1.3\n",
    "n = 15"
   ]
  },
  {
   "cell_type": "code",
   "execution_count": 92,
   "id": "8c010b5b",
   "metadata": {},
   "outputs": [],
   "source": [
    "A = np.zeros((n + 1, n + 1))\n",
    "B = np.zeros(n + 1)\n",
    "X = np.zeros(n + 1)\n",
    "h = (b0 -  a0) / n\n",
    "\n",
    "for i in range (n + 1):\n",
    "    X[i] = a0 + i * h\n",
    "\n",
    "for i in range (n - 1):\n",
    "    A[i][i] = h * h * q(X[i]) - h * p(X[i]) + 1\n",
    "    A[i][i + 1] = h * p(X[i]) - 2\n",
    "    A[i][i + 2] = 1\n",
    "    B[i] = h * h * f(X[i])\n",
    "    \n",
    "A[n - 1][0] = alpha0 * h - alpha1\n",
    "A[n - 1][1] = alpha1\n",
    "A[n][n - 1] = -beta1\n",
    "A[n][n] = beta0 * h + beta1\n",
    "B[n - 1] = h * Ac\n",
    "B[n] = h * Bc"
   ]
  },
  {
   "cell_type": "code",
   "execution_count": 93,
   "id": "826695fa",
   "metadata": {},
   "outputs": [
    {
     "name": "stdout",
     "output_type": "stream",
     "text": [
      "[[ 0.91286633 -1.91158633  1.          0.          0.          0.\n",
      "   0.          0.          0.          0.          0.          0.\n",
      "   0.          0.          0.          0.        ]\n",
      " [ 0.          0.90652661 -1.90422261  1.          0.          0.\n",
      "   0.          0.          0.          0.          0.          0.\n",
      "   0.          0.          0.          0.        ]\n",
      " [ 0.          0.          0.89957359 -1.89624559  1.          0.\n",
      "   0.          0.          0.          0.          0.          0.\n",
      "   0.          0.          0.          0.        ]\n",
      " [ 0.          0.          0.          0.89195619 -1.88760419  1.\n",
      "   0.          0.          0.          0.          0.          0.\n",
      "   0.          0.          0.          0.        ]\n",
      " [ 0.          0.          0.          0.          0.88361908 -1.87824308\n",
      "   1.          0.          0.          0.          0.          0.\n",
      "   0.          0.          0.          0.        ]\n",
      " [ 0.          0.          0.          0.          0.          0.8745023\n",
      "  -1.8681023   1.          0.          0.          0.          0.\n",
      "   0.          0.          0.          0.        ]\n",
      " [ 0.          0.          0.          0.          0.          0.\n",
      "   0.86454093 -1.85711693  1.          0.          0.          0.\n",
      "   0.          0.          0.          0.        ]\n",
      " [ 0.          0.          0.          0.          0.          0.\n",
      "   0.          0.85366461 -1.84521661  1.          0.          0.\n",
      "   0.          0.          0.          0.        ]\n",
      " [ 0.          0.          0.          0.          0.          0.\n",
      "   0.          0.          0.84179716 -1.83232516  1.          0.\n",
      "   0.          0.          0.          0.        ]\n",
      " [ 0.          0.          0.          0.          0.          0.\n",
      "   0.          0.          0.          0.82885601 -1.81836001  1.\n",
      "   0.          0.          0.          0.        ]\n",
      " [ 0.          0.          0.          0.          0.          0.\n",
      "   0.          0.          0.          0.          0.81475175 -1.80323175\n",
      "   1.          0.          0.          0.        ]\n",
      " [ 0.          0.          0.          0.          0.          0.\n",
      "   0.          0.          0.          0.          0.          0.7993875\n",
      "  -1.7868435   1.          0.          0.        ]\n",
      " [ 0.          0.          0.          0.          0.          0.\n",
      "   0.          0.          0.          0.          0.          0.\n",
      "   0.78265832 -1.76909032  1.          0.        ]\n",
      " [ 0.          0.          0.          0.          0.          0.\n",
      "   0.          0.          0.          0.          0.          0.\n",
      "   0.          0.76445053 -1.74985853  1.        ]\n",
      " [ 2.66       -2.5         0.          0.          0.          0.\n",
      "   0.          0.          0.          0.          0.          0.\n",
      "   0.          0.          0.          0.        ]\n",
      " [ 0.          0.          0.          0.          0.          0.\n",
      "   0.          0.          0.          0.          0.          0.\n",
      "   0.          0.          3.4        -3.16      ]]\n",
      "[6.4000000e-06 3.7324800e-05 1.1248640e-04 2.5154560e-04 4.7416320e-04\n",
      " 8.0000000e-04 1.2487168e-03 1.8399744e-03 2.5934336e-03 3.5287552e-03\n",
      " 4.6656000e-03 6.0236288e-03 7.6225024e-03 9.4818816e-03 0.0000000e+00\n",
      " 4.0000000e-01]\n"
     ]
    }
   ],
   "source": [
    "print(A)\n",
    "print(B)"
   ]
  },
  {
   "cell_type": "code",
   "execution_count": 94,
   "id": "7d380717",
   "metadata": {},
   "outputs": [],
   "source": [
    "#Метод Гаусса с выбором главного элемента\n",
    "def Metod_Gaussa(arr, brr):\n",
    "    for k in range(arr.shape[0] - 1):\n",
    "        # Поиск строки с максимальным элементом\n",
    "        max_elem = 0\n",
    "        str = 0\n",
    "        for i in range (k, arr.shape[0]):\n",
    "            if abs(arr[i,k]) > abs(max_elem):\n",
    "                max_elem = arr[i,k]\n",
    "                str = i\n",
    "        # Меняем местами строки квадратной матрицы\n",
    "        change = np.repeat(arr[k], 1)\n",
    "        arr[k], arr[str] = arr[str], change\n",
    "        # Меняем местами элементы вектора-столбца\n",
    "        change = np.repeat(brr[k], 1)\n",
    "        brr[k], brr[str] = brr[str], change\n",
    "        # Делим полученную строку на max_elem\n",
    "        arr[k] = arr[k] / max_elem\n",
    "        brr[k] = brr[k] / max_elem\n",
    "        # Домножаем строку на коэффициенты и вычитаем ее из остальных строк\n",
    "        for i in range (k + 1, arr.shape[0]):\n",
    "            factor = arr[i,k]\n",
    "            arr[i] = arr[i] - arr[k] * factor\n",
    "            brr[i] = brr[i] - brr[k] * factor\n",
    "\n",
    "    # Находим аргументы уравнений\n",
    "    arg = [brr[brr.shape[0] - 1] / (arr[arr.shape[0] - 1, arr.shape[0] - 1])]\n",
    "    for i in range(arr.shape[0] - 2, -1, -1):\n",
    "        n = brr[i]\n",
    "        for j in range(len(arg)):\n",
    "            n = n - arg[j] * arr[i, arr.shape[0] - 1 - j]\n",
    "        arg.append(n)\n",
    "\n",
    "    # Переворачиваем значения в списке\n",
    "    otv = []\n",
    "    print(\"Answer:\")\n",
    "    for i in reversed(arg): otv.append(i)\n",
    "    print(\"\\n\".join(\"X{0} =\\t{1:10.15f}\".format(i + 1, x) for i, x in enumerate(otv)))\n",
    "    return otv"
   ]
  },
  {
   "cell_type": "code",
   "execution_count": 95,
   "id": "80f9779f",
   "metadata": {},
   "outputs": [
    {
     "name": "stdout",
     "output_type": "stream",
     "text": [
      "Answer:\n",
      "X1 =\t1.058470625606923\n",
      "X2 =\t1.126212745645766\n",
      "X3 =\t1.186617093604174\n",
      "X4 =\t1.238678601461906\n",
      "X5 =\t1.281501923160294\n",
      "X6 =\t1.314372899373912\n",
      "X7 =\t1.336826415481199\n",
      "X8 =\t1.348706377863845\n",
      "X9 =\t1.350213012188257\n",
      "X10 =\t1.341932547469145\n",
      "X11 =\t1.324844724305091\n",
      "X12 =\t1.300304564300222\n",
      "X13 =\t1.269996517383059\n",
      "X14 =\t1.235861435994444\n",
      "X15 =\t1.199999664948888\n",
      "X16 =\t1.164556601527285\n"
     ]
    }
   ],
   "source": [
    "otv = Metod_Gaussa(A, B)"
   ]
  },
  {
   "cell_type": "code",
   "execution_count": 96,
   "id": "c9a0ec24",
   "metadata": {},
   "outputs": [
    {
     "data": {
      "text/plain": [
       "[<matplotlib.lines.Line2D at 0x2abb0bba220>]"
      ]
     },
     "execution_count": 96,
     "metadata": {},
     "output_type": "execute_result"
    },
    {
     "data": {
      "image/png": "[encoded data removed]",
      "text/plain": [
       "<Figure size 432x288 with 1 Axes>"
      ]
     },
     "metadata": {
      "needs_background": "light"
     },
     "output_type": "display_data"
    }
   ],
   "source": [
    "plt.plot(otv)"
   ]
  },
  {
   "cell_type": "code",
   "execution_count": 101,
   "id": "3586abde",
   "metadata": {},
   "outputs": [],
   "source": [
    "def p(x):\n",
    "    return math.exp(x)"
   ]
  },
  {
   "cell_type": "code",
   "execution_count": 102,
   "id": "cfd92607",
   "metadata": {},
   "outputs": [],
   "source": [
    "def q(x):\n",
    "    return x / 2"
   ]
  },
  {
   "cell_type": "code",
   "execution_count": 103,
   "id": "1c893092",
   "metadata": {},
   "outputs": [],
   "source": [
    "def f(x):\n",
    "    return x ** 2"
   ]
  },
  {
   "cell_type": "code",
   "execution_count": 104,
   "id": "02f3ae9c",
   "metadata": {},
   "outputs": [],
   "source": [
    "alpha0 = 1\n",
    "alpha1 = -1.2\n",
    "Ac = 0\n",
    "beta0 = 2\n",
    "beta1 = -2.5\n",
    "Bc = -4\n",
    "a0 = 0.1\n",
    "b0 = 1.1\n",
    "n = 20"
   ]
  },
  {
   "cell_type": "code",
   "execution_count": 105,
   "id": "fd97bff8",
   "metadata": {},
   "outputs": [],
   "source": [
    "A = np.zeros((n + 1, n + 1))\n",
    "B = np.zeros(n + 1)\n",
    "X = np.zeros(n + 1)\n",
    "h = (b0 -  a0) / n\n",
    "\n",
    "for i in range (n + 1):\n",
    "    X[i] = a0 + i * h\n",
    "\n",
    "for i in range (n - 1):\n",
    "    A[i][i] = h * h * q(X[i]) - h * p(X[i]) + 1\n",
    "    A[i][i + 1] = h * p(X[i]) - 2\n",
    "    A[i][i + 2] = 1\n",
    "    B[i] = h * h * f(X[i])\n",
    "    \n",
    "A[n - 1][0] = alpha0 * h - alpha1\n",
    "A[n - 1][1] = alpha1\n",
    "A[n][n - 1] = -beta1\n",
    "A[n][n] = beta0 * h + beta1\n",
    "B[n - 1] = h * Ac\n",
    "B[n] = h * Bc"
   ]
  },
  {
   "cell_type": "code",
   "execution_count": 106,
   "id": "c81e91cc",
   "metadata": {},
   "outputs": [
    {
     "name": "stdout",
     "output_type": "stream",
     "text": [
      "[[ 0.94486645 -1.94474145  1.          0.          0.          0.\n",
      "   0.          0.          0.          0.          0.          0.\n",
      "   0.          0.          0.          0.          0.          0.\n",
      "   0.          0.          0.        ]\n",
      " [ 0.          0.94209579 -1.94190829  1.          0.          0.\n",
      "   0.          0.          0.          0.          0.          0.\n",
      "   0.          0.          0.          0.          0.          0.\n",
      "   0.          0.          0.        ]\n",
      " [ 0.          0.          0.93917986 -1.93892986  1.          0.\n",
      "   0.          0.          0.          0.          0.          0.\n",
      "   0.          0.          0.          0.          0.          0.\n",
      "   0.          0.          0.        ]\n",
      " [ 0.          0.          0.          0.93611123 -1.93579873  1.\n",
      "   0.          0.          0.          0.          0.          0.\n",
      "   0.          0.          0.          0.          0.          0.\n",
      "   0.          0.          0.        ]\n",
      " [ 0.          0.          0.          0.          0.93288206 -1.93250706\n",
      "   1.          0.          0.          0.          0.          0.\n",
      "   0.          0.          0.          0.          0.          0.\n",
      "   0.          0.          0.        ]\n",
      " [ 0.          0.          0.          0.          0.          0.92948412\n",
      "  -1.92904662  1.          0.          0.          0.          0.\n",
      "   0.          0.          0.          0.          0.          0.\n",
      "   0.          0.          0.        ]\n",
      " [ 0.          0.          0.          0.          0.          0.\n",
      "   0.92590877 -1.92540877  1.          0.          0.          0.\n",
      "   0.          0.          0.          0.          0.          0.\n",
      "   0.          0.          0.        ]\n",
      " [ 0.          0.          0.          0.          0.          0.\n",
      "   0.          0.92214689 -1.92158439  1.          0.          0.\n",
      "   0.          0.          0.          0.          0.          0.\n",
      "   0.          0.          0.        ]\n",
      " [ 0.          0.          0.          0.          0.          0.\n",
      "   0.          0.          0.91818894 -1.91756394  1.          0.\n",
      "   0.          0.          0.          0.          0.          0.\n",
      "   0.          0.          0.        ]\n",
      " [ 0.          0.          0.          0.          0.          0.\n",
      "   0.          0.          0.          0.91402485 -1.91333735  1.\n",
      "   0.          0.          0.          0.          0.          0.\n",
      "   0.          0.          0.        ]\n",
      " [ 0.          0.          0.          0.          0.          0.\n",
      "   0.          0.          0.          0.          0.90964406 -1.90889406\n",
      "   1.          0.          0.          0.          0.          0.\n",
      "   0.          0.          0.        ]\n",
      " [ 0.          0.          0.          0.          0.          0.\n",
      "   0.          0.          0.          0.          0.          0.90503546\n",
      "  -1.90422296  1.          0.          0.          0.          0.\n",
      "   0.          0.          0.        ]\n",
      " [ 0.          0.          0.          0.          0.          0.\n",
      "   0.          0.          0.          0.          0.          0.\n",
      "   0.90018736 -1.89931236  1.          0.          0.          0.\n",
      "   0.          0.          0.        ]\n",
      " [ 0.          0.          0.          0.          0.          0.\n",
      "   0.          0.          0.          0.          0.          0.\n",
      "   0.          0.8950875  -1.89415     1.          0.          0.\n",
      "   0.          0.          0.        ]\n",
      " [ 0.          0.          0.          0.          0.          0.\n",
      "   0.          0.          0.          0.          0.          0.\n",
      "   0.          0.          0.88972295 -1.88872295  1.          0.\n",
      "   0.          0.          0.        ]\n",
      " [ 0.          0.          0.          0.          0.          0.\n",
      "   0.          0.          0.          0.          0.          0.\n",
      "   0.          0.          0.          0.88408016 -1.88301766  1.\n",
      "   0.          0.          0.        ]\n",
      " [ 0.          0.          0.          0.          0.          0.\n",
      "   0.          0.          0.          0.          0.          0.\n",
      "   0.          0.          0.          0.          0.87814484 -1.87701984\n",
      "   1.          0.          0.        ]\n",
      " [ 0.          0.          0.          0.          0.          0.\n",
      "   0.          0.          0.          0.          0.          0.\n",
      "   0.          0.          0.          0.          0.          0.87190202\n",
      "  -1.87071452  1.          0.        ]\n",
      " [ 0.          0.          0.          0.          0.          0.\n",
      "   0.          0.          0.          0.          0.          0.\n",
      "   0.          0.          0.          0.          0.          0.\n",
      "   0.86533591 -1.86408591  1.        ]\n",
      " [ 1.25       -1.2         0.          0.          0.          0.\n",
      "   0.          0.          0.          0.          0.          0.\n",
      "   0.          0.          0.          0.          0.          0.\n",
      "   0.          0.          0.        ]\n",
      " [ 0.          0.          0.          0.          0.          0.\n",
      "   0.          0.          0.          0.          0.          0.\n",
      "   0.          0.          0.          0.          0.          0.\n",
      "   0.          2.5        -2.4       ]]\n",
      "[ 2.50000e-05  5.62500e-05  1.00000e-04  1.56250e-04  2.25000e-04\n",
      "  3.06250e-04  4.00000e-04  5.06250e-04  6.25000e-04  7.56250e-04\n",
      "  9.00000e-04  1.05625e-03  1.22500e-03  1.40625e-03  1.60000e-03\n",
      "  1.80625e-03  2.02500e-03  2.25625e-03  2.50000e-03  0.00000e+00\n",
      " -2.00000e-01]\n"
     ]
    }
   ],
   "source": [
    "print(A)\n",
    "print(B)"
   ]
  },
  {
   "cell_type": "code",
   "execution_count": 107,
   "id": "b5e20675",
   "metadata": {},
   "outputs": [],
   "source": [
    "#Метод Гаусса с выбором главного элемента\n",
    "def Metod_Gaussa(arr, brr):\n",
    "    for k in range(arr.shape[0] - 1):\n",
    "        # Поиск строки с максимальным элементом\n",
    "        max_elem = 0\n",
    "        str = 0\n",
    "        for i in range (k, arr.shape[0]):\n",
    "            if abs(arr[i,k]) > abs(max_elem):\n",
    "                max_elem = arr[i,k]\n",
    "                str = i\n",
    "        # Меняем местами строки квадратной матрицы\n",
    "        change = np.repeat(arr[k], 1)\n",
    "        arr[k], arr[str] = arr[str], change\n",
    "        # Меняем местами элементы вектора-столбца\n",
    "        change = np.repeat(brr[k], 1)\n",
    "        brr[k], brr[str] = brr[str], change\n",
    "        # Делим полученную строку на max_elem\n",
    "        arr[k] = arr[k] / max_elem\n",
    "        brr[k] = brr[k] / max_elem\n",
    "        # Домножаем строку на коэффициенты и вычитаем ее из остальных строк\n",
    "        for i in range (k + 1, arr.shape[0]):\n",
    "            factor = arr[i,k]\n",
    "            arr[i] = arr[i] - arr[k] * factor\n",
    "            brr[i] = brr[i] - brr[k] * factor\n",
    "\n",
    "    # Находим аргументы уравнений\n",
    "    arg = [brr[brr.shape[0] - 1] / (arr[arr.shape[0] - 1, arr.shape[0] - 1])]\n",
    "    for i in range(arr.shape[0] - 2, -1, -1):\n",
    "        n = brr[i]\n",
    "        for j in range(len(arg)):\n",
    "            n = n - arg[j] * arr[i, arr.shape[0] - 1 - j]\n",
    "        arg.append(n)\n",
    "\n",
    "    # Переворачиваем значения в списке\n",
    "    otv = []\n",
    "    print(\"Answer:\")\n",
    "    for i in reversed(arg): otv.append(i)\n",
    "    print(\"\\n\".join(\"X{0} =\\t{1:10.15f}\".format(i + 1, x) for i, x in enumerate(otv)))\n",
    "    return otv"
   ]
  },
  {
   "cell_type": "code",
   "execution_count": 108,
   "id": "e3493fc9",
   "metadata": {},
   "outputs": [
    {
     "name": "stdout",
     "output_type": "stream",
     "text": [
      "Answer:\n",
      "X1 =\t-1.260134149259742\n",
      "X2 =\t-1.312639738812232\n",
      "X3 =\t-1.362061429065572\n",
      "X4 =\t-1.408309758764393\n",
      "X5 =\t-1.451293181233226\n",
      "X6 =\t-1.490920666555134\n",
      "X7 =\t-1.527104341429886\n",
      "X8 =\t-1.559762134572840\n",
      "X9 =\t-1.588820390426023\n",
      "X10 =\t-1.614216409241327\n",
      "X11 =\t-1.635900867492020\n",
      "X12 =\t-1.653840069326168\n",
      "X13 =\t-1.668017977663397\n",
      "X14 =\t-1.678437972829800\n",
      "X15 =\t-1.685124287591838\n",
      "X16 =\t-1.688123070331232\n",
      "X17 =\t-1.687503033096926\n",
      "X18 =\t-1.683355648508559\n",
      "X19 =\t-1.675794869009794\n",
      "X20 =\t-1.664956353707521\n",
      "X21 =\t-1.650996201778668\n"
     ]
    }
   ],
   "source": [
    "otv = Metod_Gaussa(A, B)"
   ]
  },
  {
   "cell_type": "code",
   "execution_count": 109,
   "id": "600f0f64",
   "metadata": {},
   "outputs": [
    {
     "data": {
      "text/plain": [
       "[<matplotlib.lines.Line2D at 0x2abb0c23820>]"
      ]
     },
     "execution_count": 109,
     "metadata": {},
     "output_type": "execute_result"
    },
    {
     "data": {
      "image/png": "[encoded data removed]",
      "text/plain": [
       "<Figure size 432x288 with 1 Axes>"
      ]
     },
     "metadata": {
      "needs_background": "light"
     },
     "output_type": "display_data"
    }
   ],
   "source": [
    "plt.plot(otv)"
   ]
  }
 ],
 "metadata": {
  "kernelspec": {
   "display_name": "Python 3 (ipykernel)",
   "language": "python",
   "name": "python3"
  },
  "language_info": {
   "codemirror_mode": {
    "name": "ipython",
    "version": 3
   },
   "file_extension": ".py",
   "mimetype": "text/x-python",
   "name": "python",
   "nbconvert_exporter": "python",
   "pygments_lexer": "ipython3",
   "version": "3.8.12"
  }
 },
 "nbformat": 4,
 "nbformat_minor": 5
}
