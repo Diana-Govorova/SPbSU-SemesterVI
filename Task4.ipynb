{
 "cells": [
  {
   "cell_type": "code",
   "execution_count": 1,
   "id": "2616b857",
   "metadata": {},
   "outputs": [],
   "source": [
    "import numpy as np"
   ]
  },
  {
   "cell_type": "markdown",
   "id": "784b52a6",
   "metadata": {},
   "source": [
    "Метод простых итераций"
   ]
  },
  {
   "cell_type": "code",
   "execution_count": 2,
   "id": "22f72073",
   "metadata": {},
   "outputs": [],
   "source": [
    "def simple_iteration(A, b, e):\n",
    "\n",
    "    B = np.array(A)\n",
    "    diag = (1/np.diag(B)).reshape(-1,1)\n",
    "    B[np.diag_indices_from(B)] = 0\n",
    "    B = np.hstack((-B, np.array(b).reshape(-1, 1))) * diag\n",
    "    x = B[:,-1].ravel()\n",
    "    x = np.append(x, 1)\n",
    "    tmp = x.copy() + e\n",
    "    count = 0\n",
    "    while abs(x-tmp).sum() > e:\n",
    "        tmp = x.copy()\n",
    "        x = B.dot(x)\n",
    "        x = np.append(x, 1)\n",
    "        count += 1\n",
    "    return(x[:-1], count)"
   ]
  },
  {
   "cell_type": "markdown",
   "id": "559fccfe",
   "metadata": {},
   "source": [
    "Метод Зейделя"
   ]
  },
  {
   "cell_type": "code",
   "execution_count": 3,
   "id": "4f2f2e47",
   "metadata": {},
   "outputs": [],
   "source": [
    "def zeidel(A, b,e):   \n",
    "    x = b.astype(float)   \n",
    "    m, n = A.shape\n",
    "    count = 0\n",
    "    tmp = x.copy() + 1\n",
    "    while abs(x-tmp).sum() > e:\n",
    "        for i in range(n):\n",
    "            s1 = 0\n",
    "            tmp = x.copy()     \n",
    "            for j in range(n):\n",
    "                if i != j:\n",
    "                    s1 += x[j] * A[i][j]\n",
    "            x[i] = (b[i] - s1) / A[i][i]\n",
    "            count += 1 \n",
    "    return(x, count)"
   ]
  },
  {
   "cell_type": "markdown",
   "id": "6fa43704",
   "metadata": {},
   "source": [
    "Хорошо обусловленная матрица (из методички)"
   ]
  },
  {
   "cell_type": "code",
   "execution_count": 4,
   "id": "e7a902db",
   "metadata": {},
   "outputs": [
    {
     "name": "stdout",
     "output_type": "stream",
     "text": [
      "Решение методом простых итераций: [0.18931185 0.09571267 0.27694314]\n",
      "Количество итераций: 24 \n",
      "Точность: 1e-05\n",
      "\n",
      "Решение методом Зейделя: [0.18931693 0.09571035 0.27694702]\n",
      "Количество итераций: 14 \n",
      "Точность: 1e-05\n",
      "\n",
      "Решение методом простых итераций: [0.18931335 0.09571177 0.27694502]\n",
      "Количество итераций: 48 \n",
      "Точность: 1e-10\n",
      "\n",
      "Решение методом Зейделя: [0.18931335 0.09571177 0.27694502]\n",
      "Количество итераций: 29 \n",
      "Точность: 1e-10\n",
      "Решение методом простых итераций: [0.18931335 0.09571177 0.27694502]\n",
      "Количество итераций: 69 \n",
      "Точность: 1e-15\n",
      "\n",
      "Решение методом Зейделя: [0.18931335 0.09571177 0.27694502]\n",
      "Количество итераций: 43 \n",
      "Точность: 1e-15\n"
     ]
    }
   ],
   "source": [
    "A = np.array([[ 8.67313, 1.041039, -2.677712],\n",
    "              [ 1.04103, 6.586211, 0.623016],\n",
    "              [ -2.677712, 0.623016, 5.225935]])\n",
    "b = np.array([1, 1, 1])\n",
    "e = 1e-5\n",
    "x, count = simple_iteration(A, b, e)\n",
    "x_, count_ = zeidel(A, b, e)\n",
    "print(\"Решение методом простых итераций:\", x)\n",
    "print(\"Количество итераций:\", count_, \"\\nТочность:\", e)\n",
    "print()\n",
    "print(\"Решение методом Зейделя:\", x_)\n",
    "print(\"Количество итераций:\", count, \"\\nТочность:\", e)\n",
    "print()\n",
    "e = 1e-10\n",
    "x, count = simple_iteration(A, b, e)\n",
    "x_, count_ = zeidel(A, b, e)\n",
    "print(\"Решение методом простых итераций:\", x)\n",
    "print(\"Количество итераций:\", count_, \"\\nТочность:\", e)\n",
    "print()\n",
    "print(\"Решение методом Зейделя:\", x_)\n",
    "print(\"Количество итераций:\", count, \"\\nТочность:\", e)\n",
    "e = 1e-15\n",
    "x, count = simple_iteration(A, b, e)\n",
    "x_, count_ = zeidel(A, b, e)\n",
    "print(\"Решение методом простых итераций:\", x)\n",
    "print(\"Количество итераций:\", count_, \"\\nТочность:\", e)\n",
    "print()\n",
    "print(\"Решение методом Зейделя:\", x_)\n",
    "print(\"Количество итераций:\", count, \"\\nТочность:\", e)"
   ]
  },
  {
   "cell_type": "markdown",
   "id": "e692b903",
   "metadata": {},
   "source": [
    "Плохо обусловленная матрица"
   ]
  },
  {
   "cell_type": "code",
   "execution_count": 5,
   "id": "b0b8f743",
   "metadata": {},
   "outputs": [
    {
     "name": "stdout",
     "output_type": "stream",
     "text": [
      "Решение методом простых итераций: [-0.76027582 -1.51954805]\n",
      "Количество итераций: 3210 \n",
      "Точность: 1e-05\n",
      "\n",
      "Решение методом Зейделя: [-0.76096024 -1.52092647]\n",
      "Количество итераций: 2762 \n",
      "Точность: 1e-05\n",
      "\n",
      "Решение методом простых итераций: [-0.76210434 -1.52321068]\n",
      "Количество итераций: 8484 \n",
      "Точность: 1e-10\n",
      "\n",
      "Решение методом Зейделя: [-0.76210435 -1.5232107 ]\n",
      "Количество итераций: 8036 \n",
      "Точность: 1e-10\n",
      "\n",
      "Решение методом простых итераций: [-0.76210436 -1.52321072]\n",
      "Количество итераций: 13718 \n",
      "Точность: 1e-15\n",
      "\n",
      "Решение методом Зейделя: [-0.76210436 -1.52321072]\n",
      "Количество итераций: 13290 \n",
      "Точность: 1e-15\n"
     ]
    }
   ],
   "source": [
    "A = np.array([[ -401.43, 200.19],\n",
    "              [ 1201.14, -601.62]])\n",
    "b = np.array([1, 1])\n",
    "e = 1e-5\n",
    "x, count = simple_iteration(A, b, e)\n",
    "x_, count_ = zeidel(A, b, e)\n",
    "print(\"Решение методом простых итераций:\", x)\n",
    "print(\"Количество итераций:\", count_, \"\\nТочность:\", e)\n",
    "print()\n",
    "print(\"Решение методом Зейделя:\", x_)\n",
    "print(\"Количество итераций:\", count, \"\\nТочность:\", e)\n",
    "print()\n",
    "e = 1e-10\n",
    "x, count = simple_iteration(A, b, e)\n",
    "x_, count_ = zeidel(A, b, e)\n",
    "print(\"Решение методом простых итераций:\", x)\n",
    "print(\"Количество итераций:\", count_, \"\\nТочность:\", e)\n",
    "print()\n",
    "print(\"Решение методом Зейделя:\", x_)\n",
    "print(\"Количество итераций:\", count, \"\\nТочность:\", e)\n",
    "print()\n",
    "e = 1e-15\n",
    "x, count = simple_iteration(A, b, e)\n",
    "x_, count_ = zeidel(A, b, e)\n",
    "print(\"Решение методом простых итераций:\", x)\n",
    "print(\"Количество итераций:\", count_, \"\\nТочность:\", e)\n",
    "print()\n",
    "print(\"Решение методом Зейделя:\", x_)\n",
    "print(\"Количество итераций:\", count, \"\\nТочность:\", e)"
   ]
  },
  {
   "cell_type": "markdown",
   "id": "68cc22c2",
   "metadata": {},
   "source": [
    "Матрица 8-го порядка"
   ]
  },
  {
   "cell_type": "code",
   "execution_count": 6,
   "id": "2f841fcb",
   "metadata": {},
   "outputs": [
    {
     "name": "stdout",
     "output_type": "stream",
     "text": [
      "Решение методом простых итераций: [-0.46249772  0.22945546 -0.68286098 -0.02337895 -0.13394423 -0.23203504\n",
      " -0.34051344  2.93815848]\n",
      "Количество итераций: 272 \n",
      "Точность: 1e-10\n",
      "\n",
      "Решение методом Зейделя: [-0.46249773  0.22945546 -0.68286098 -0.02337895 -0.13394423 -0.23203504\n",
      " -0.34051344  2.93815848]\n",
      "Количество итераций: 72 \n",
      "Точность: 1e-10\n",
      "\n",
      "Решение методом простых итераций: [-0.46249772  0.22945546 -0.68286098 -0.02337895 -0.13394423 -0.23203504\n",
      " -0.34051344  2.93815848]\n",
      "Количество итераций: 400 \n",
      "Точность: 1e-15\n",
      "\n",
      "Решение методом Зейделя: [-0.46249772  0.22945546 -0.68286098 -0.02337895 -0.13394423 -0.23203504\n",
      " -0.34051344  2.93815848]\n",
      "Количество итераций: 106 \n",
      "Точность: 1e-15\n"
     ]
    }
   ],
   "source": [
    "A=np.array([[31, -13, 0, 0, 0, -10, 0, 0],\n",
    "            [-13, 35, 9, 0, -11, 0, 0, 6],\n",
    "            [ 0, -9, 31, -10, 0, 0, 0, 0],\n",
    "            [ 0, 0, -10, 79, -30, 0, 0, 0],\n",
    "            [ 0, 0, 0, -30, 57, -7, 0, -5],\n",
    "            [ 0, 0, 0, 0, -7, 47, -30, 4],\n",
    "            [ 0, 0, 0, 0, 0, -30, 41, 0],\n",
    "            [ 0, 0, 0, 0, -5, 0, 0, 27]\n",
    "            ]) \n",
    "b=np.array([-15, 27, -23, 9, -20, 12, -7, 80])\n",
    "e = 1e-10\n",
    "x, count = simple_iteration(A, b, e)\n",
    "x_, count_ = zeidel(A, b, e)\n",
    "print(\"Решение методом простых итераций:\", x)\n",
    "print(\"Количество итераций:\", count_, \"\\nТочность:\", e)\n",
    "print()\n",
    "print(\"Решение методом Зейделя:\", x_)\n",
    "print(\"Количество итераций:\", count, \"\\nТочность:\", e)\n",
    "print()\n",
    "e = 1e-15\n",
    "x, count = simple_iteration(A, b, e)\n",
    "x_, count_ = zeidel(A, b, e)\n",
    "print(\"Решение методом простых итераций:\", x)\n",
    "print(\"Количество итераций:\", count_, \"\\nТочность:\", e)\n",
    "print()\n",
    "print(\"Решение методом Зейделя:\", x_)\n",
    "print(\"Количество итераций:\", count, \"\\nТочность:\", e)"
   ]
  },
  {
   "cell_type": "markdown",
   "id": "c37e472e",
   "metadata": {},
   "source": [
    "Матрица Гильберта 5-го порядка"
   ]
  },
  {
   "cell_type": "code",
   "execution_count": 11,
   "id": "acba44ae",
   "metadata": {},
   "outputs": [
    {
     "name": "stdout",
     "output_type": "stream",
     "text": [
      "Решение методом простых итераций: [-inf  nan  nan  nan  nan]\n",
      "\n",
      "Решение методом Зейделя: [-1.67576302e+307  4.40343099e+307 -5.35014430e+307              inf\n",
      "             -inf]\n",
      "Количество итераций: 71370 \n",
      "Точность: 1e-05\n"
     ]
    },
    {
     "name": "stderr",
     "output_type": "stream",
     "text": [
      "C:\\Users\\diana\\AppData\\Local\\Temp/ipykernel_17880/3545502711.py:13: RuntimeWarning: overflow encountered in double_scalars\n",
      "  x[i] = (b[i] - s1) / A[i][i]\n",
      "C:\\Users\\diana\\AppData\\Local\\Temp/ipykernel_17880/3545502711.py:6: RuntimeWarning: invalid value encountered in subtract\n",
      "  while abs(x-tmp).sum() > e:\n"
     ]
    }
   ],
   "source": [
    "A = np.array([[1, 1/2, 1/3, 1/4, 1/5],\n",
    "              [1/2, 1/3, 1/4, 1/5, 1/6],\n",
    "              [1/3, 1/4, 1/5, 1/6, 1/7],\n",
    "              [1/4, 1/5, 1/6, 1/7, 1/8],\n",
    "              [1/5, 1/6, 1/7, 1/8, 1/9]])\n",
    "np.random.seed(42)\n",
    "np.random.shuffle(A)\n",
    "b = np.array([1, 1, 1, 1, 1])\n",
    "e = 1.0e-5\n",
    "x, count = simple_iteration(A, b, e)\n",
    "x_, count_ = zeidel(A, b, e)\n",
    "print(\"Решение методом простых итераций:\", x)\n",
    "print()\n",
    "print(\"Решение методом Зейделя:\", x_)\n",
    "print(\"Количество итераций:\", count_, \"\\nТочность:\", e)\n"
   ]
  },
  {
   "cell_type": "code",
   "execution_count": null,
   "id": "3c9ccea4",
   "metadata": {},
   "outputs": [],
   "source": []
  }
 ],
 "metadata": {
  "kernelspec": {
   "display_name": "Python 3 (ipykernel)",
   "language": "python",
   "name": "python3"
  },
  "language_info": {
   "codemirror_mode": {
    "name": "ipython",
    "version": 3
   },
   "file_extension": ".py",
   "mimetype": "text/x-python",
   "name": "python",
   "nbconvert_exporter": "python",
   "pygments_lexer": "ipython3",
   "version": "3.8.12"
  }
 },
 "nbformat": 4,
 "nbformat_minor": 5
}
