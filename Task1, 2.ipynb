{
 "cells": [
  {
   "cell_type": "code",
   "execution_count": 2,
   "id": "6d18a677",
   "metadata": {},
   "outputs": [],
   "source": [
    "#решить две системы (одну с “точной” правой частью, вторую с изменённой), \n",
    "#найти число обусловленности исходной матрицы, посчитать фактическую погрешность и \n",
    "#оценку погрешности (задание - 10.4, варианты - 10.5 по методичке, стр.90). \n",
    "#Затем реализовать три метода: Гаусса с выбором главного элемента (по желанию) \n",
    "#    для решения СЛАУ, метод Жордана для нахождения обратной матрицы и метод LU-разложения\n",
    " #   для нахождения определителя матрицы (варианты - 11.6 по методичке, стр.94).\n",
    "    \n",
    "    \n",
    "#Везде взят вариант 1"
   ]
  },
  {
   "cell_type": "code",
   "execution_count": 3,
   "id": "231ece15",
   "metadata": {},
   "outputs": [],
   "source": [
    "import pandas as pd\n",
    "import numpy as np"
   ]
  },
  {
   "cell_type": "code",
   "execution_count": 4,
   "id": "a6d73b21",
   "metadata": {},
   "outputs": [],
   "source": [
    "matrixA = np.array([[-400.60, 199.80], [1198.80, -600.40]])\n",
    "#Обратная к А матрица\n",
    "matrixA1 = np.linalg.inv(matrixA)\n",
    "matrixB = np.array([200.0, -600.0])\n",
    "matrixB1 = np.array([199.0, -601.0])"
   ]
  },
  {
   "cell_type": "code",
   "execution_count": 5,
   "id": "97bd1ddf",
   "metadata": {},
   "outputs": [
    {
     "name": "stdout",
     "output_type": "stream",
     "text": [
      "[-0.2  0.6]\n"
     ]
    }
   ],
   "source": [
    "#Решение системы с точной правой частью\n",
    "answer = np.linalg.solve(matrixA, matrixB)\n",
    "print(answer)"
   ]
  },
  {
   "cell_type": "code",
   "execution_count": 6,
   "id": "2b968a64",
   "metadata": {},
   "outputs": [
    {
     "name": "stdout",
     "output_type": "stream",
     "text": [
      "[0.6002 2.1994]\n"
     ]
    }
   ],
   "source": [
    "#Решение системы с измененной правой частью\n",
    "answer1 = np.linalg.solve(matrixA, matrixB1)\n",
    "print(answer1)"
   ]
  },
  {
   "cell_type": "code",
   "execution_count": 7,
   "id": "a65c72fc",
   "metadata": {},
   "outputs": [
    {
     "name": "stdout",
     "output_type": "stream",
     "text": [
      "2877.6404800000278\n"
     ]
    }
   ],
   "source": [
    "#Число обусловленности исходной матрицы (норма inf )\n",
    "condA = np.linalg.cond(matrixA, np.inf)\n",
    "\n",
    "print(condA)"
   ]
  },
  {
   "cell_type": "code",
   "execution_count": 8,
   "id": "9f6e4979",
   "metadata": {},
   "outputs": [
    {
     "name": "stdout",
     "output_type": "stream",
     "text": [
      "2.665666666666609\n"
     ]
    }
   ],
   "source": [
    "#Фактическая относительная погрешность\n",
    "temp = answer1 - answer\n",
    "relative_error = (np.linalg.norm(temp, np.inf) / np.linalg.norm(answer, np.inf))\n",
    "print(relative_error)"
   ]
  },
  {
   "cell_type": "code",
   "execution_count": 9,
   "id": "764bcd83",
   "metadata": {},
   "outputs": [
    {
     "name": "stdout",
     "output_type": "stream",
     "text": [
      "4.796067466666713\n"
     ]
    }
   ],
   "source": [
    "#Оценка погрешности(relative_error <=)\n",
    "tempB = matrixB1 - matrixB\n",
    "deltaB = (np.linalg.norm(tempB, np.inf) / np.linalg.norm(matrixB, np.inf))\n",
    "error_estimation = condA * deltaB\n",
    "print(error_estimation)"
   ]
  },
  {
   "cell_type": "code",
   "execution_count": 10,
   "id": "5bb25e63",
   "metadata": {},
   "outputs": [],
   "source": [
    "#Метод Гаусса с выбором главного элемента\n",
    "def Metod_Gaussa(arr, brr):\n",
    "    for k in range(arr.shape[0] - 1):\n",
    "        # Поиск строки с максимальным элементом\n",
    "        max_elem = 0\n",
    "        str = 0\n",
    "        for i in range (k, arr.shape[0]):\n",
    "            if abs(arr[i,k]) > abs(max_elem):\n",
    "                max_elem = arr[i,k]\n",
    "                str = i\n",
    "        # Меняем местами строки квадратной матрицы\n",
    "        change = np.repeat(arr[k], 1)\n",
    "        arr[k], arr[str] = arr[str], change\n",
    "        # Меняем местами элементы вектора-столбца\n",
    "        change = np.repeat(brr[k], 1)\n",
    "        brr[k], brr[str] = brr[str], change\n",
    "        # Делим полученную строку на max_elem\n",
    "        arr[k] = arr[k] / max_elem\n",
    "        brr[k] = brr[k] / max_elem\n",
    "        # Домножаем строку на коэффициенты и вычитаем ее из остальных строк\n",
    "        for i in range (k + 1, arr.shape[0]):\n",
    "            factor = arr[i,k]\n",
    "            arr[i] = arr[i] - arr[k] * factor\n",
    "            brr[i] = brr[i] - brr[k] * factor\n",
    "\n",
    "    # Находим аргументы уравнений\n",
    "    arg = [brr[brr.shape[0] - 1] / (arr[arr.shape[0] - 1, arr.shape[0] - 1])]\n",
    "    for i in range(arr.shape[0] - 2, -1, -1):\n",
    "        n = brr[i]\n",
    "        for j in range(len(arg)):\n",
    "            n = n - arg[j] * arr[i, arr.shape[0] - 1 - j]\n",
    "        arg.append(n)\n",
    "\n",
    "    # Переворачиваем значения в списке\n",
    "    otv = []\n",
    "    print(\"Answer:\")\n",
    "    for i in reversed(arg): otv.append(i)\n",
    "    print(\"\\n\".join(\"X{0} =\\t{1:10.15f}\".format(i + 1, x) for i, x in enumerate(otv)))\n",
    "    return otv"
   ]
  },
  {
   "cell_type": "code",
   "execution_count": 11,
   "id": "ea507b4d",
   "metadata": {},
   "outputs": [],
   "source": [
    "matrixRas = np.array([[3.278164,  1.046583,  -1.378574], [1.046583,  2.975937,   0.934251], [-1.378574,  0.934251,  4.836173]])\n",
    "matrixResult = np.array([-0.527466, 2.526877, 5.165441])"
   ]
  },
  {
   "cell_type": "code",
   "execution_count": 12,
   "id": "e5162310",
   "metadata": {},
   "outputs": [
    {
     "name": "stdout",
     "output_type": "stream",
     "text": [
      "Answer:\n",
      "X1 =\t0.100000193135086\n",
      "X2 =\t0.499999630025553\n",
      "X3 =\t1.000000105848158\n",
      "[0.10000019313508599, 0.4999996300255529, 1.0000001058481585]\n"
     ]
    }
   ],
   "source": [
    "#вызов функции и вывод на экран\n",
    "print(Metod_Gaussa(matrixRas, matrixResult))"
   ]
  },
  {
   "cell_type": "code",
   "execution_count": 13,
   "id": "8b631adc",
   "metadata": {},
   "outputs": [],
   "source": [
    "matrixRas1 = np.array([[3.278164,  1.046583,  -1.378574], [1.046583,  2.975937,   0.934251], [-1.378574,  0.934251,  4.836173]])\n",
    "matrixResult1 = np.array([-0.527466, 2.526877, 5.165441])"
   ]
  },
  {
   "cell_type": "code",
   "execution_count": 14,
   "id": "aa577a76",
   "metadata": {},
   "outputs": [],
   "source": [
    "# Метод Жордана для нахождения обратной матрицы\n",
    "\n",
    "# Перемена местами двух строк системы\n",
    "def SwapRows(A, B, row1, row2):\n",
    "    A[row1], A[row2] = A[row2], A[row1]\n",
    "    B[row1], B[row2] = B[row2], B[row1]\n",
    "\n",
    "# Деление строки системы на число\n",
    "def DivideRow(A, B, row, divider):\n",
    "    A[row] = [a / divider for a in A[row]]\n",
    "    B[row] /= divider\n",
    "\n",
    "# Cложение строки системы с другой строкой, умноженной на число\n",
    "def CombineRows(A, B, row, source_row, weight):\n",
    "    A[row] = [(a + k * weight) for a, k in zip(A[row], A[source_row])]\n",
    "    B[row] += B[source_row] * weight\n",
    "\n",
    "# Решение\n",
    "def Gauss_Jordan3(A, B):\n",
    "    column = 0\n",
    "    while (column < len(B)):\n",
    "        # Ищем максимальный по модулю элемент в i-м столбце\n",
    "        current_row = None\n",
    "        for r in range(column, len(A)):\n",
    "            if current_row is None or abs(A[r][column]) > abs(A[current_row][column]):\n",
    "                 current_row = r\n",
    "        if current_row is None:\n",
    "            print(\"решений нет\")\n",
    "            return None\n",
    "        if current_row != column:\n",
    "            #Переставляем строку с найденным элементом повыше\n",
    "            SwapRows(A, B, current_row, column)\n",
    "        #Нормализуем строку с найденным элементом\n",
    "        DivideRow(A, B, column, A[column][column])\n",
    "        #Обрабатываем нижележащие строки\n",
    "        for r in range(column + 1, len(A)):\n",
    "            CombineRows(A, B, r, column, -A[r][column])\n",
    "        column += 1\n",
    "    #Матрица приведена к треугольному виду, считаем решение\n",
    "    X = [0 for b in B]\n",
    "    for i in range(len(B) - 1, -1, -1):\n",
    "        X[i] = B[i] - sum(x * a for x, a in zip(X[(i + 1):], A[i][(i + 1):]))\n",
    "    print(\"Answer:\")\n",
    "    print(\"\\n\".join(\"X{0} =\\t{1:10.15f}\".format(i + 1, x) for i, x in enumerate(X)))\n",
    "    return X"
   ]
  },
  {
   "cell_type": "code",
   "execution_count": 15,
   "id": "8fa478b5",
   "metadata": {},
   "outputs": [
    {
     "name": "stdout",
     "output_type": "stream",
     "text": [
      "Answer:\n",
      "X1 =\t0.100000193135086\n",
      "X2 =\t0.499999630025553\n",
      "X3 =\t1.000000105848158\n"
     ]
    },
    {
     "data": {
      "text/plain": [
       "[0.10000019313508599, 0.4999996300255529, 1.0000001058481585]"
      ]
     },
     "execution_count": 15,
     "metadata": {},
     "output_type": "execute_result"
    }
   ],
   "source": [
    "Gauss_Jordan3(matrixRas1, matrixResult1)"
   ]
  },
  {
   "cell_type": "code",
   "execution_count": 16,
   "id": "78cfb249",
   "metadata": {},
   "outputs": [],
   "source": [
    "matrixRas2 = np.array([[3.278164,  1.046583,  -1.378574], [1.046583,  2.975937,   0.934251], [-1.378574,  0.934251,  4.836173]])\n",
    "matrixResult2 = np.array([-0.527466, 2.526877, 5.165441])"
   ]
  },
  {
   "cell_type": "code",
   "execution_count": 17,
   "id": "eaeb5d22",
   "metadata": {},
   "outputs": [],
   "source": [
    "# Разбиваем матрицу коэффициентов на L и U матрицы. Получившиеся треугольные матрицы представляем в виде общей матрицы\n",
    "def decompose_to_LU(a):\n",
    "\n",
    "    # Пустая LU-матрица\n",
    "    lu_matrix = np.matrix(np.zeros([a.shape[0], a.shape[1]]))\n",
    "    n = a.shape[0]\n",
    "\n",
    "    for k in range(n):\n",
    "        for j in range(k, n): #Вычисляем все оставшиеся эл-ты к-й строки\n",
    "            lu_matrix[k, j] = a[k, j] - lu_matrix[k, :k] * lu_matrix[:k, j]\n",
    "        for i in range(k + 1, n): #Вычисляем все оставшиеся эл-ты к-го столбца\n",
    "            lu_matrix[i, k] = (a[i, k] - lu_matrix[i, : k] * lu_matrix[: k, k]) / lu_matrix[k, k]\n",
    "\n",
    "    return lu_matrix"
   ]
  },
  {
   "cell_type": "code",
   "execution_count": 18,
   "id": "7f994193",
   "metadata": {},
   "outputs": [
    {
     "name": "stdout",
     "output_type": "stream",
     "text": [
      "[[ 3.278164  1.046583 -1.378574]\n",
      " [ 1.046583  2.975937  0.934251]\n",
      " [-1.378574  0.934251  4.836173]]\n",
      "[[ 3.278164  1.046583 -1.378574]\n",
      " [ 1.046583  2.975937  0.934251]\n",
      " [-1.378574  0.934251  4.836173]]\n"
     ]
    }
   ],
   "source": [
    "# Получим матрицу L из матрицы LU\n",
    "def get_L(m):\n",
    "    L = m.copy()\n",
    "    for i in range(L.shape[0]):\n",
    "            L[i, i] = 1\n",
    "            L[i, i+1 :] = 0\n",
    "    return np.matrix(L)\n",
    "\n",
    "# Получим матрицу U из матрицы LU\n",
    "def get_U(m):\n",
    "    U = m.copy()\n",
    "    for i in range(1, U.shape[0]):\n",
    "        U[i, :i] = 0\n",
    "    return U\n",
    "\n",
    "# Проверка на то, правильно ли разбиваются матрицы\n",
    "print(matrixRas2)\n",
    "\n",
    "LU = decompose_to_LU(matrixRas2)\n",
    "L = get_L(LU)\n",
    "U = get_U(LU)\n",
    "\n",
    "print(L * U)"
   ]
  },
  {
   "cell_type": "code",
   "execution_count": 19,
   "id": "1587ec51",
   "metadata": {},
   "outputs": [],
   "source": [
    "# Находим решение метода LU-разложения\n",
    "def solve_LU(lu_matrix, b):\n",
    "    y = np.matrix(np.zeros([lu_matrix.shape[0], 1]))\n",
    "    for i in range(y.shape[0]):\n",
    "        y[i] = b[i] - lu_matrix[i, :i] * y[:i]\n",
    "\n",
    "    x = np.matrix(np.zeros([lu_matrix.shape[0], 1]))\n",
    "    for i in range(1, x.shape[0] + 1):\n",
    "        x[-i] = (y[-i] - lu_matrix[-i, -i:] * x[-i:] )/ lu_matrix[-i, -i]\n",
    "    print(\"Answer:\")\n",
    "    print(\"X1 = \", x[0][0])\n",
    "    print(\"X2 = \", x[1][0])\n",
    "    print(\"X3 = \", x[2][0])\n",
    "    #print(\"\\n\".join(\"X{0} =\\t{1:10.15f}\".format(i + 1, x_tr[0, k]) for i, k in range(len(x_tr)))\n",
    "    return x"
   ]
  },
  {
   "cell_type": "code",
   "execution_count": 20,
   "id": "c7b999d1",
   "metadata": {},
   "outputs": [
    {
     "name": "stdout",
     "output_type": "stream",
     "text": [
      "Answer:\n",
      "X1 =  [[0.10000019]]\n",
      "X2 =  [[0.49999963]]\n",
      "X3 =  [[1.00000011]]\n"
     ]
    },
    {
     "data": {
      "text/plain": [
       "matrix([[0.10000019],\n",
       "        [0.49999963],\n",
       "        [1.00000011]])"
      ]
     },
     "execution_count": 20,
     "metadata": {},
     "output_type": "execute_result"
    }
   ],
   "source": [
    "matrix = decompose_to_LU(matrixRas2)\n",
    "solve_LU(matrix, matrixResult2)"
   ]
  },
  {
   "cell_type": "code",
   "execution_count": 21,
   "id": "49cb7bed",
   "metadata": {},
   "outputs": [
    {
     "name": "stdout",
     "output_type": "stream",
     "text": [
      "30.669790066106653\n"
     ]
    }
   ],
   "source": [
    "# Определитель матрицы методом LU разложения\n",
    "detA = np.linalg.det(L) * np.linalg.det(U)\n",
    "print(detA)"
   ]
  }
 ],
 "metadata": {
  "kernelspec": {
   "display_name": "Python 3 (ipykernel)",
   "language": "python",
   "name": "python3"
  },
  "language_info": {
   "codemirror_mode": {
    "name": "ipython",
    "version": 3
   },
   "file_extension": ".py",
   "mimetype": "text/x-python",
   "name": "python",
   "nbconvert_exporter": "python",
   "pygments_lexer": "ipython3",
   "version": "3.8.12"
  }
 },
 "nbformat": 4,
 "nbformat_minor": 5
}
