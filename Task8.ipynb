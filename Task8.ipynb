{
 "cells": [
  {
   "cell_type": "code",
   "execution_count": 87,
   "id": "0965efdf",
   "metadata": {},
   "outputs": [],
   "source": [
    "import numpy as np\n",
    "import pandas as pd\n",
    "import scipy as sp\n",
    "import numpy.linalg as LA\n",
    "import matplotlib.pyplot as plt\n",
    "from scipy.special.orthogonal import p_roots\n",
    "import scipy.integrate"
   ]
  },
  {
   "cell_type": "code",
   "execution_count": 88,
   "id": "97cda01d",
   "metadata": {},
   "outputs": [],
   "source": [
    "#Точки и вес Гаусса-Лежандра\n",
    "def gauss_xw(m=100):\n",
    "    point,weight=p_roots(m+1)\n",
    "    return point,weight"
   ]
  },
  {
   "cell_type": "code",
   "execution_count": 89,
   "id": "3a394364",
   "metadata": {},
   "outputs": [],
   "source": [
    "#Точное решение\n",
    "def function_u(x):\n",
    "    return x**(3/4)"
   ]
  },
  {
   "cell_type": "code",
   "execution_count": 90,
   "id": "d7c0faae",
   "metadata": {},
   "outputs": [],
   "source": [
    "#Функция в правом конце уравнения\n",
    "def f_function(x):\n",
    "    return 3/16*x**(-5/4)"
   ]
  },
  {
   "cell_type": "code",
   "execution_count": 91,
   "id": "c7ae7f6a",
   "metadata": {},
   "outputs": [],
   "source": [
    "#Строим набор базисных ф-й пространства (x - переменные, n - кол-во узлов, i - i-й узел, t - список узлов, h - список шагов)\n",
    "def hat_function(x,t,i,h,n):\n",
    "    if i==n:\n",
    "        if t[n]>=x and x>=t[n-1]:\n",
    "            return 1+(x-t[n])/h[n-1]\n",
    "        else:\n",
    "            return 0\n",
    "    else:\n",
    "        if t[i]>=x and x>=t[i-1]:\n",
    "            return 1+(x-t[i])/h[i-1]\n",
    "        elif t[i+1]>=x and x>=t[i]:\n",
    "            return 1-(x-t[i])/h[i]\n",
    "        else:\n",
    "            return 0"
   ]
  },
  {
   "cell_type": "code",
   "execution_count": 92,
   "id": "3350ac1a",
   "metadata": {},
   "outputs": [],
   "source": [
    "#Рассчитать правильный член уравнения (h - список шагов, a, b - начало и конец интервала)\n",
    "def compute_right_of_equation(point,weight,t,h,n,a,b):\n",
    "    c=(b-a)/2\n",
    "    s = (b-a) / 2 * point + (a + b) / 2 # Изменить интервал [a, b] на [-1,1]\n",
    "    f=[sum([c*weight[i]*f_function(s[i])*hat_function(s[i],t,j,h,n) for i in range(len(s))])\n",
    "            for j in range(1,len(t)-1)]\n",
    "    f [-1] = f [-1] + 1 / h [-1] # Добавить правильное начальное условие\n",
    "    return f"
   ]
  },
  {
   "cell_type": "code",
   "execution_count": 93,
   "id": "a7090f69",
   "metadata": {},
   "outputs": [],
   "source": [
    "#Рассчитать матрицу кф(матрицу общей жесткости)\n",
    "def compute_stiffness_matrix(point,weight,t,h,n,a,b):\n",
    "    A=np.zeros((n-1,n-1))\n",
    "    for j in range(1,len(t)-1):\n",
    "        if j==1:\n",
    "            A[j-1,j-1]=+sp.integrate.quad(lambda x: h[j]**(-2),t[j-1],t[j+1])[0]\n",
    "                   #sp.integrate.quad(lambda x: h[j]**(-2),t[j],t[j+1])[0]\n",
    "            A[j-1,j]=sp.integrate.quad(lambda x: -h[j]**(-2),t[j],t[j+1])[0]\n",
    "            #A[j,j-1]=sp.integrate.quad(lambda x: h[j]**(-2),t[j-1],t[j])[0]\n",
    "        \n",
    "        elif j==n-1:\n",
    "            A[j-1,j-2]=sp.integrate.quad(lambda x: -h[j-1]**(-2),t[j-1],t[j])[0]\n",
    "            A[j-1,j-1]=+sp.integrate.quad(lambda x: h[j-1]**(-2),t[j-1],t[j+1])[0]\n",
    "        else:\n",
    "            A[j-1,j-2]=sp.integrate.quad(lambda x: -h[j-1]**(-2),t[j-1],t[j])[0]\n",
    "            A[j-1,j-1]=+sp.integrate.quad(lambda x: h[j-1]**(-2),t[j-1],t[j])[0]+\\\n",
    "                   sp.integrate.quad(lambda x: h[j]**(-2),t[j],t[j+1])[0]\n",
    "            A[j-1,j]=sp.integrate.quad(lambda x: -h[j]**(-2),t[j],t[j+1])[0]\n",
    "    return np.array(A)\n"
   ]
  },
  {
   "cell_type": "code",
   "execution_count": 94,
   "id": "75b7e746",
   "metadata": {},
   "outputs": [],
   "source": [
    "#Точное решение\n",
    "def solve_ui(A,b):\n",
    "    return np.linalg.solve(A,np.array(b))"
   ]
  },
  {
   "cell_type": "code",
   "execution_count": 95,
   "id": "80d779d1",
   "metadata": {},
   "outputs": [],
   "source": [
    "#Приближенное решение и погрешность\n",
    "def solve_uh(ui,t,h,n,a,b):\n",
    "    uh=[sum([ui[j]*hat_function(x,t,j+1,h,n) for j in range(n-1)]) for x in t if x!=1]\n",
    "    error=function_u(np.array(t[:-1]))-uh\n",
    "    return uh,LA.norm(error,np.inf)"
   ]
  },
  {
   "cell_type": "code",
   "execution_count": 96,
   "id": "00374cf2",
   "metadata": {},
   "outputs": [
    {
     "name": "stdout",
     "output_type": "stream",
     "text": [
      "The error is: 6.331166206265809e-05\n"
     ]
    },
    {
     "data": {
      "image/png": "[encoded data removed]",
      "text/plain": [
       "<Figure size 432x288 with 1 Axes>"
      ]
     },
     "metadata": {
      "needs_background": "light"
     },
     "output_type": "display_data"
    }
   ],
   "source": [
    "if __name__ == '__main__':\n",
    "    a = 0\n",
    "    b=1\n",
    "    n=50\n",
    "    h = (b-a) / (n) # равноудаленный шаг\n",
    "    t = [a + i * h for i in range (0, n + 1)] # узел\n",
    "    h = [(b-a) / (n) for i in range (n)] # Размер шага подинтервала \n",
    "    \n",
    "    point, weight = gauss_xw (m = 100) # точка и вес узла Гаусса-Жордана\n",
    "    f = compute_right_of_equation (point, weight, t, h, n, a, b) # Рассчитать правильный член уравнения\n",
    "    A = compute_stiffness_matrix (point, weight, t, h, n, a, b) # Рассчитать матрицу кф(матрица жесткости)\n",
    "    ui = solve_ui (A, f) # Вычислить пользовательский интерфейс\n",
    "    \n",
    "    uh, error = solve_uh (ui,t,h,n,a,b)\n",
    "    \n",
    "    print('The error is:',error)\n",
    "    plt.plot(t,[0]+list(ui)+[1],'+b',label='approximate solution')\n",
    "    plt.plot(t,function_u(np.array(t)),'r',label='exact solution')\n",
    "    plt.title('Fig2.(where a=0,b=1,n=20,$u(x)=x^{3/4}$,$u(1)=0,u(1)=1$)')\n",
    "    plt.xlabel('x')\n",
    "    plt.ylabel('u')\n",
    "    plt.legend(loc='upper center')"
   ]
  },
  {
   "cell_type": "code",
   "execution_count": null,
   "id": "c20aad1d",
   "metadata": {},
   "outputs": [],
   "source": []
  }
 ],
 "metadata": {
  "kernelspec": {
   "display_name": "Python 3 (ipykernel)",
   "language": "python",
   "name": "python3"
  },
  "language_info": {
   "codemirror_mode": {
    "name": "ipython",
    "version": 3
   },
   "file_extension": ".py",
   "mimetype": "text/x-python",
   "name": "python",
   "nbconvert_exporter": "python",
   "pygments_lexer": "ipython3",
   "version": "3.8.12"
  }
 },
 "nbformat": 4,
 "nbformat_minor": 5
}
