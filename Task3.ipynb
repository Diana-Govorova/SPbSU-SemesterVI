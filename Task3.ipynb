{
 "cells": [
  {
   "cell_type": "code",
   "execution_count": 225,
   "id": "87234ab4",
   "metadata": {},
   "outputs": [],
   "source": [
    "#Реализовать метод решения СЛАУ, на выбор: метод вращений или метод отражений.\n",
    "#Вычислить числа обусловленности. Протестировать на тех же матрицах, что использовались в задании 2; сравнить."
   ]
  },
  {
   "cell_type": "markdown",
   "id": "0141dda5",
   "metadata": {},
   "source": [
    "Метод вращений"
   ]
  },
  {
   "cell_type": "code",
   "execution_count": 226,
   "id": "469eee0b",
   "metadata": {},
   "outputs": [],
   "source": [
    "import pandas as pd\n",
    "import numpy as np\n",
    "import math"
   ]
  },
  {
   "cell_type": "code",
   "execution_count": 227,
   "id": "c90506ba",
   "metadata": {},
   "outputs": [],
   "source": [
    "def generate_tridiagonal_matrix(n: int, digits: int = -1) -> np.array:\n",
    "    matrix = np.empty(shape=(n, n))\n",
    "    for i in range(n):\n",
    "        for j in range(n):\n",
    "            if j == i - 1 or j == i + 1:\n",
    "                current_value = -1\n",
    "            elif j == i:\n",
    "                current_value = 2\n",
    "            else:\n",
    "                current_value = 0\n",
    "            if digits != -1:\n",
    "                if digits <= 0:\n",
    "                    raise AttributeError(\"digits must be positive value\")\n",
    "                current_value = round(current_value, digits)\n",
    "            matrix[i, j] = current_value\n",
    "    return matrix"
   ]
  },
  {
   "cell_type": "code",
   "execution_count": 228,
   "id": "231aab67",
   "metadata": {},
   "outputs": [],
   "source": [
    "#Число обусловленности\n",
    "def number_of_conditionality(matrix: np.ndarray) -> float:\n",
    "    return np.linalg.norm(matrix) * np.linalg.norm(np.linalg.inv(matrix))"
   ]
  },
  {
   "cell_type": "code",
   "execution_count": 229,
   "id": "a4c52733",
   "metadata": {},
   "outputs": [],
   "source": [
    "#Создаем матрицу поворота\n",
    "def create_rotational_matrix(n, sin, cos, i, j) -> np.array:\n",
    "    matrix = np.eye(n)\n",
    "    matrix[i, i] = cos\n",
    "    matrix[i, j] = -sin\n",
    "    matrix[j, i] = sin\n",
    "    matrix[j, j] = cos\n",
    "    return matrix"
   ]
  },
  {
   "cell_type": "code",
   "execution_count": 230,
   "id": "5e34c160",
   "metadata": {},
   "outputs": [],
   "source": [
    "#Заполняем матрицу нужными эл-тами\n",
    "def get_sin_cos(a, b):\n",
    "    if a == 0 and b == 0:\n",
    "        return 0, 1\n",
    "    r = math.sqrt(a ** 2 + b ** 2)\n",
    "    return -(b / r), a / r"
   ]
  },
  {
   "cell_type": "code",
   "execution_count": 231,
   "id": "c0f4e962",
   "metadata": {},
   "outputs": [],
   "source": [
    "def qr_decompose(A: np.array):\n",
    "    n = A.shape[0]\n",
    "\n",
    "    Q = np.eye(n)\n",
    "    R = A.copy()\n",
    "    for j in range(n):\n",
    "        for i in range(n - 1, j, -1):\n",
    "            a, b = R[i - 1, j], R[i, j]\n",
    "            sin, cos = get_sin_cos(a, b)\n",
    "            rotational_matrix = create_rotational_matrix(n, sin, cos, i, j)\n",
    "            R = rotational_matrix.T.dot(R)\n",
    "            Q = Q.dot(rotational_matrix)\n",
    "    return Q, R\n"
   ]
  },
  {
   "cell_type": "code",
   "execution_count": 232,
   "id": "2b96f72c",
   "metadata": {},
   "outputs": [],
   "source": [
    "# to solve Ux = b\n",
    "def back_sub(U, b):\n",
    "    n = U.shape[0]\n",
    "    x = np.zeros(n)\n",
    "    for i in range(n - 1, -1, -1):\n",
    "        tmp = b[i]\n",
    "        for j in range(i + 1, n):\n",
    "            tmp -= U[i, j] * x[j]\n",
    "        x[i] = tmp / U[i, i]\n",
    "    return x\n"
   ]
  },
  {
   "cell_type": "code",
   "execution_count": 233,
   "id": "329d56d8",
   "metadata": {},
   "outputs": [],
   "source": [
    "# Rx = Q_tb\n",
    "def qr_solve(A, b):\n",
    "    Q, R = qr_decompose(A)\n",
    "\n",
    "    print(f\"Condition A: {number_of_conditionality(A)}\")\n",
    "    print(f\"Condition Q: {number_of_conditionality(Q)}\")\n",
    "    print(f\"Condition R: {number_of_conditionality(R)}\")\n",
    "\n",
    "    y = Q.T.dot(b)\n",
    "    x = back_sub(R, y)\n",
    "    return x"
   ]
  },
  {
   "cell_type": "code",
   "execution_count": 234,
   "id": "b150b81f",
   "metadata": {},
   "outputs": [
    {
     "name": "stdout",
     "output_type": "stream",
     "text": [
      "Condition A: 4.219449098422382\n",
      "Condition Q: 3.0\n",
      "Condition R: 4.219449098422382\n",
      "1.3877787807814457e-17\n"
     ]
    }
   ],
   "source": [
    "A = np.array([[6, 5, 0],\n",
    "              [5, 1, 4],\n",
    "              [0, 4, 3]])\n",
    "b = np.array([1, 1, 1])\n",
    "\n",
    "actual = qr_solve(A,b)\n",
    "\n",
    "expected = np.linalg.solve(A, b)\n",
    "\n",
    "print(np.linalg.norm(actual - expected))"
   ]
  },
  {
   "cell_type": "code",
   "execution_count": 235,
   "id": "976e3b99",
   "metadata": {},
   "outputs": [
    {
     "name": "stdout",
     "output_type": "stream",
     "text": [
      "Condition A: 480849.11699433636\n",
      "Condition Q: 5.000000000000001\n",
      "Condition R: 480849.1169940533\n",
      "1275.870895539019\n"
     ]
    }
   ],
   "source": [
    "A = np.array([[1, 1/2, 1/3, 1/4, 1/5],\n",
    "              [1/2, 1/3, 1/4, 1/5, 1/6],\n",
    "              [1/3, 1/4, 1/5, 1/6, 1/7],\n",
    "              [1/4, 1/5, 1/6, 1/7, 1/8],\n",
    "              [1/5, 1/6, 1/7, 1/8, 1/9]])\n",
    "b = np.array([1, 1, 1, 1, 1])\n",
    "\n",
    "actual = qr_solve(A,b)\n",
    "\n",
    "expected = np.linalg.solve(A, b)\n",
    "\n",
    "print(np.linalg.norm(actual - expected))"
   ]
  },
  {
   "cell_type": "code",
   "execution_count": 236,
   "id": "c1ebd72e",
   "metadata": {},
   "outputs": [
    {
     "name": "stdout",
     "output_type": "stream",
     "text": [
      "Condition A: 481747252.56394905\n",
      "Condition Q: 7.000000000000001\n",
      "Condition R: 481747254.9448719\n",
      "52353.75993546792\n"
     ]
    }
   ],
   "source": [
    "A = np.array([[1, 1/2, 1/3, 1/4, 1/5, 1/6, 1/7],\n",
    "              [1/2, 1/3, 1/4, 1/5, 1/6, 1/7, 1/8],\n",
    "              [1/3, 1/4, 1/5, 1/6, 1/7, 1/8, 1/9],\n",
    "              [1/4, 1/5, 1/6, 1/7, 1/8, 1/9, 1/10],\n",
    "              [1/5, 1/6, 1/7, 1/8, 1/9, 1/10, 1/11],\n",
    "              [1/6, 1/7, 1/8, 1/9, 1/10, 1/11, 1/12],\n",
    "              [1/7, 1/8, 1/9, 1/10, 1/11, 1/12, 1/13]])\n",
    "b = np.array([1, 1, 1, 1, 1, 1, 1])\n",
    "\n",
    "actual = qr_solve(A,b)\n",
    "\n",
    "expected = np.linalg.solve(A, b)\n",
    "\n",
    "print(np.linalg.norm(actual - expected))"
   ]
  },
  {
   "cell_type": "code",
   "execution_count": 237,
   "id": "2ae6a8b7",
   "metadata": {},
   "outputs": [
    {
     "name": "stdout",
     "output_type": "stream",
     "text": [
      "Condition A: 20.739120307069708\n",
      "Condition Q: 5.000000000000001\n",
      "Condition R: 20.73912030706971\n",
      "2.6645352591003757e-15\n"
     ]
    }
   ],
   "source": [
    "A=generate_tridiagonal_matrix(5) \n",
    "b=np.array([1, 2, 1, 2, 1])\n",
    "\n",
    "actual = qr_solve(A,b)\n",
    "\n",
    "expected = np.linalg.solve(A, b)\n",
    "\n",
    "print(np.linalg.norm(actual - expected))"
   ]
  },
  {
   "cell_type": "code",
   "execution_count": null,
   "id": "59dda798",
   "metadata": {},
   "outputs": [],
   "source": []
  }
 ],
 "metadata": {
  "kernelspec": {
   "display_name": "Python 3 (ipykernel)",
   "language": "python",
   "name": "python3"
  },
  "language_info": {
   "codemirror_mode": {
    "name": "ipython",
    "version": 3
   },
   "file_extension": ".py",
   "mimetype": "text/x-python",
   "name": "python",
   "nbconvert_exporter": "python",
   "pygments_lexer": "ipython3",
   "version": "3.8.12"
  }
 },
 "nbformat": 4,
 "nbformat_minor": 5
}
